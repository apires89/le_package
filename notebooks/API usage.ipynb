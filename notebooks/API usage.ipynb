{
 "cells": [
  {
   "cell_type": "code",
   "execution_count": 4,
   "metadata": {},
   "outputs": [
    {
     "name": "stdout",
     "output_type": "stream",
     "text": [
      "{'prediction': 35.45436628928188}\n"
     ]
    }
   ],
   "source": [
    "import requests\n",
    "\n",
    "# fill the parameters for the prediction\n",
    "x = dict(\n",
    "        digital_transformation=0,\n",
    "        employee_engagement=0,\n",
    "        employee_satisfaction=0,\n",
    "        innovation=0,\n",
    "        internationalization=0,\n",
    "        market_competitiveness=0,\n",
    "        people_management=0,\n",
    "        people_structure=0,\n",
    "        recruitment=0,\n",
    "        training_and_development=0,\n",
    "        work_processes=0,\n",
    "\n",
    "        )\n",
    "\n",
    "\n",
    "x = dict(\n",
    "  key='2012-10-06 12:10:20.0000001',\n",
    "  pickup_datetime='2012-10-06 12:10:20 UTC',\n",
    "  pickup_longitude=40.7614327,\n",
    "  pickup_latitude=-73.9798156,\n",
    "  dropoff_longitude=40.6331166,\n",
    "  dropoff_latitude=-73.8874078,\n",
    "    \n",
    "  passenger_count=2\n",
    ")\n",
    "\n",
    "# build the URL (server DNS, port, API endpoint, parameters)\n",
    "#http://127.0.0.1:8000/predict_cluster/?digital_transformation=2&employee_engagement=3&employee_satisfaction=2&innovation=2&internationalization=2&market_competitiveness=2&people_management=2&people_structure=3&recruitment=2&training_and_development=2&work_processes=2# \n",
    "clustering_api_url = f\"http://127.0.0.1:8000/predict_cluster/?digital_transformation={x['digital_transformation']}&employee_engagement={x['employee_engagement']}&employee_satisfaction={x['employee_satisfaction']}&innovation={x['innovation']}&internationalization={x['internationalization']}&market_competitiveness={x['market_competitiveness']}&people_management={x['people_management']}&people_structure={x['people_structure']}&recruitment={x['recruitment']}&training_and_development={x['training_and_development']}&work_processes={x['work_processes']}\"\n",
    "\n",
    "# retrieve the response\n",
    "response = requests.get(\n",
    "    taxifare_api_url\n",
    ").json()\n",
    "\n",
    "print(response)\n",
    "\n"
   ]
  },
  {
   "cell_type": "code",
   "execution_count": null,
   "metadata": {},
   "outputs": [],
   "source": []
  }
 ],
 "metadata": {
  "kernelspec": {
   "display_name": "Python 3",
   "language": "python",
   "name": "python3"
  },
  "language_info": {
   "codemirror_mode": {
    "name": "ipython",
    "version": 3
   },
   "file_extension": ".py",
   "mimetype": "text/x-python",
   "name": "python",
   "nbconvert_exporter": "python",
   "pygments_lexer": "ipython3",
   "version": "3.8.6"
  },
  "toc": {
   "base_numbering": 1,
   "nav_menu": {},
   "number_sections": true,
   "sideBar": true,
   "skip_h1_title": false,
   "title_cell": "Table of Contents",
   "title_sidebar": "Contents",
   "toc_cell": false,
   "toc_position": {},
   "toc_section_display": true,
   "toc_window_display": false
  },
  "varInspector": {
   "cols": {
    "lenName": 16,
    "lenType": 16,
    "lenVar": 40
   },
   "kernels_config": {
    "python": {
     "delete_cmd_postfix": "",
     "delete_cmd_prefix": "del ",
     "library": "var_list.py",
     "varRefreshCmd": "print(var_dic_list())"
    },
    "r": {
     "delete_cmd_postfix": ") ",
     "delete_cmd_prefix": "rm(",
     "library": "var_list.r",
     "varRefreshCmd": "cat(var_dic_list()) "
    }
   },
   "types_to_exclude": [
    "module",
    "function",
    "builtin_function_or_method",
    "instance",
    "_Feature"
   ],
   "window_display": false
  }
 },
 "nbformat": 4,
 "nbformat_minor": 4
}
