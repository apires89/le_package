{
 "cells": [
  {
   "cell_type": "markdown",
   "id": "proof-doubt",
   "metadata": {
    "ExecuteTime": {
     "end_time": "2021-03-10T09:50:13.468763Z",
     "start_time": "2021-03-10T09:50:13.462067Z"
    }
   },
   "source": [
    "# Final Model"
   ]
  },
  {
   "cell_type": "markdown",
   "id": "understanding-canvas",
   "metadata": {
    "ExecuteTime": {
     "end_time": "2021-03-10T09:50:16.988048Z",
     "start_time": "2021-03-10T09:50:16.984460Z"
    }
   },
   "source": [
    "## Loading Data"
   ]
  },
  {
   "cell_type": "code",
   "execution_count": 4,
   "id": "fiscal-correlation",
   "metadata": {
    "ExecuteTime": {
     "end_time": "2021-03-10T09:50:36.085816Z",
     "start_time": "2021-03-10T09:50:34.694735Z"
    }
   },
   "outputs": [],
   "source": [
    "import numpy as np\n",
    "import pandas as pd\n",
    "import matplotlib.pyplot as plt\n",
    "\n",
    "%matplotlib inline\n",
    "pd.options.display.max_rows = 20\n",
    "pd.options.display.max_columns = 81"
   ]
  },
  {
   "cell_type": "code",
   "execution_count": 5,
   "id": "superior-lesbian",
   "metadata": {
    "ExecuteTime": {
     "end_time": "2021-03-10T09:50:41.692812Z",
     "start_time": "2021-03-10T09:50:41.549288Z"
    }
   },
   "outputs": [
    {
     "data": {
      "text/html": [
       "<div>\n",
       "<style scoped>\n",
       "    .dataframe tbody tr th:only-of-type {\n",
       "        vertical-align: middle;\n",
       "    }\n",
       "\n",
       "    .dataframe tbody tr th {\n",
       "        vertical-align: top;\n",
       "    }\n",
       "\n",
       "    .dataframe thead th {\n",
       "        text-align: right;\n",
       "    }\n",
       "</style>\n",
       "<table border=\"1\" class=\"dataframe\">\n",
       "  <thead>\n",
       "    <tr style=\"text-align: right;\">\n",
       "      <th></th>\n",
       "      <th>digital_transformation</th>\n",
       "      <th>employee_engagement</th>\n",
       "      <th>employee_satisfaction</th>\n",
       "      <th>innovation</th>\n",
       "      <th>internationalization</th>\n",
       "      <th>market_competitiveness</th>\n",
       "      <th>people_management</th>\n",
       "      <th>people_structure</th>\n",
       "      <th>recruitment</th>\n",
       "      <th>training_and_development</th>\n",
       "      <th>work_processes</th>\n",
       "      <th>cluster</th>\n",
       "      <th>sector</th>\n",
       "      <th>region</th>\n",
       "      <th>company_size</th>\n",
       "    </tr>\n",
       "  </thead>\n",
       "  <tbody>\n",
       "    <tr>\n",
       "      <th>0</th>\n",
       "      <td>0.19444444444444445</td>\n",
       "      <td>0.42424242424242437</td>\n",
       "      <td>0.4166666666666667</td>\n",
       "      <td>0.0</td>\n",
       "      <td>0.0</td>\n",
       "      <td>0.5833333333333334</td>\n",
       "      <td>0.40196078431372545</td>\n",
       "      <td>0.5555555555555556</td>\n",
       "      <td>0.47222222222222227</td>\n",
       "      <td>0.25925925925925924</td>\n",
       "      <td>0.3888888888888889</td>\n",
       "      <td>4</td>\n",
       "      <td>manufacturing, processing &amp; construction</td>\n",
       "      <td>western europe</td>\n",
       "      <td>small</td>\n",
       "    </tr>\n",
       "    <tr>\n",
       "      <th>1</th>\n",
       "      <td>0.2777777777777778</td>\n",
       "      <td>0.6515151515151515</td>\n",
       "      <td>0.7333333333333334</td>\n",
       "      <td>0.0</td>\n",
       "      <td>0.3333333333333333</td>\n",
       "      <td>0.6388888888888888</td>\n",
       "      <td>0.5588235294117646</td>\n",
       "      <td>0.5555555555555556</td>\n",
       "      <td>0.5000000000000001</td>\n",
       "      <td>0.6296296296296297</td>\n",
       "      <td>0.05555555555555555</td>\n",
       "      <td>3</td>\n",
       "      <td>manufacturing, processing &amp; construction</td>\n",
       "      <td>western europe</td>\n",
       "      <td>small</td>\n",
       "    </tr>\n",
       "    <tr>\n",
       "      <th>2</th>\n",
       "      <td>0.25</td>\n",
       "      <td>0.3030303030303031</td>\n",
       "      <td>0.41666666666666663</td>\n",
       "      <td>0.1875</td>\n",
       "      <td>0.3333333333333333</td>\n",
       "      <td>0.5</td>\n",
       "      <td>0.3431372549019608</td>\n",
       "      <td>0.6666666666666667</td>\n",
       "      <td>0.8333333333333335</td>\n",
       "      <td>0.6481481481481481</td>\n",
       "      <td>0.16666666666666666</td>\n",
       "      <td>3</td>\n",
       "      <td>manufacturing, processing &amp; construction</td>\n",
       "      <td>western europe</td>\n",
       "      <td>small</td>\n",
       "    </tr>\n",
       "    <tr>\n",
       "      <th>3</th>\n",
       "      <td>0.6666666666666666</td>\n",
       "      <td>0.787878787878788</td>\n",
       "      <td>0.9333333333333333</td>\n",
       "      <td>0.125</td>\n",
       "      <td>0.0</td>\n",
       "      <td>0.4166666666666667</td>\n",
       "      <td>0.7058823529411766</td>\n",
       "      <td>0.9222222222222222</td>\n",
       "      <td>0.8333333333333334</td>\n",
       "      <td>0.8888888888888888</td>\n",
       "      <td>0.3333333333333333</td>\n",
       "      <td>0</td>\n",
       "      <td>manufacturing, processing &amp; construction</td>\n",
       "      <td>western europe</td>\n",
       "      <td>small</td>\n",
       "    </tr>\n",
       "    <tr>\n",
       "      <th>4</th>\n",
       "      <td>0.47222222222222227</td>\n",
       "      <td>0.5606060606060607</td>\n",
       "      <td>0.6166666666666667</td>\n",
       "      <td>0.25</td>\n",
       "      <td>0.0</td>\n",
       "      <td>0.7777777777777778</td>\n",
       "      <td>0.5</td>\n",
       "      <td>0.5555555555555556</td>\n",
       "      <td>0.5</td>\n",
       "      <td>0.4444444444444444</td>\n",
       "      <td>0.4444444444444445</td>\n",
       "      <td>3</td>\n",
       "      <td>manufacturing, processing &amp; construction</td>\n",
       "      <td>western europe</td>\n",
       "      <td>small</td>\n",
       "    </tr>\n",
       "  </tbody>\n",
       "</table>\n",
       "</div>"
      ],
      "text/plain": [
       "  digital_transformation  employee_engagement employee_satisfaction  \\\n",
       "0    0.19444444444444445  0.42424242424242437    0.4166666666666667   \n",
       "1     0.2777777777777778   0.6515151515151515    0.7333333333333334   \n",
       "2                   0.25   0.3030303030303031   0.41666666666666663   \n",
       "3     0.6666666666666666    0.787878787878788    0.9333333333333333   \n",
       "4    0.47222222222222227   0.5606060606060607    0.6166666666666667   \n",
       "\n",
       "  innovation internationalization market_competitiveness    people_management  \\\n",
       "0        0.0                  0.0     0.5833333333333334  0.40196078431372545   \n",
       "1        0.0   0.3333333333333333     0.6388888888888888   0.5588235294117646   \n",
       "2     0.1875   0.3333333333333333                    0.5   0.3431372549019608   \n",
       "3      0.125                  0.0     0.4166666666666667   0.7058823529411766   \n",
       "4       0.25                  0.0     0.7777777777777778                  0.5   \n",
       "\n",
       "     people_structure          recruitment training_and_development  \\\n",
       "0  0.5555555555555556  0.47222222222222227      0.25925925925925924   \n",
       "1  0.5555555555555556   0.5000000000000001       0.6296296296296297   \n",
       "2  0.6666666666666667   0.8333333333333335       0.6481481481481481   \n",
       "3  0.9222222222222222   0.8333333333333334       0.8888888888888888   \n",
       "4  0.5555555555555556                  0.5       0.4444444444444444   \n",
       "\n",
       "        work_processes  cluster                                    sector  \\\n",
       "0   0.3888888888888889        4  manufacturing, processing & construction   \n",
       "1  0.05555555555555555        3  manufacturing, processing & construction   \n",
       "2  0.16666666666666666        3  manufacturing, processing & construction   \n",
       "3   0.3333333333333333        0  manufacturing, processing & construction   \n",
       "4   0.4444444444444445        3  manufacturing, processing & construction   \n",
       "\n",
       "           region company_size  \n",
       "0  western europe        small  \n",
       "1  western europe        small  \n",
       "2  western europe        small  \n",
       "3  western europe        small  \n",
       "4  western europe        small  "
      ]
     },
     "execution_count": 5,
     "metadata": {},
     "output_type": "execute_result"
    }
   ],
   "source": [
    "file = \"final.csv\"\n",
    "\n",
    "prepared_df = pd.read_csv(file, decimal=\",\")\n",
    "\n",
    "prepared_df.head()"
   ]
  },
  {
   "cell_type": "code",
   "execution_count": 6,
   "id": "mental-design",
   "metadata": {
    "ExecuteTime": {
     "end_time": "2021-03-10T09:50:53.850621Z",
     "start_time": "2021-03-10T09:50:53.842345Z"
    }
   },
   "outputs": [
    {
     "data": {
      "text/plain": [
       "(21869, 15)"
      ]
     },
     "execution_count": 6,
     "metadata": {},
     "output_type": "execute_result"
    }
   ],
   "source": [
    "prepared_df.shape"
   ]
  },
  {
   "cell_type": "markdown",
   "id": "ignored-basics",
   "metadata": {
    "ExecuteTime": {
     "end_time": "2021-03-10T09:51:10.755581Z",
     "start_time": "2021-03-10T09:51:10.751102Z"
    }
   },
   "source": [
    "## Preparing X and y"
   ]
  },
  {
   "cell_type": "code",
   "execution_count": 8,
   "id": "american-antarctica",
   "metadata": {
    "ExecuteTime": {
     "end_time": "2021-03-10T09:51:24.162310Z",
     "start_time": "2021-03-10T09:51:24.110507Z"
    }
   },
   "outputs": [],
   "source": [
    "X = prepared_df.drop(columns=['cluster', 'sector', 'region', 'company_size'])\n",
    "\n",
    "y = prepared_df['cluster']"
   ]
  },
  {
   "cell_type": "code",
   "execution_count": 9,
   "id": "parental-darwin",
   "metadata": {
    "ExecuteTime": {
     "end_time": "2021-03-10T09:51:42.248668Z",
     "start_time": "2021-03-10T09:51:42.239901Z"
    },
    "scrolled": true
   },
   "outputs": [
    {
     "data": {
      "text/plain": [
       "(21869, 11)"
      ]
     },
     "execution_count": 9,
     "metadata": {},
     "output_type": "execute_result"
    }
   ],
   "source": [
    "X.shape"
   ]
  },
  {
   "cell_type": "code",
   "execution_count": 10,
   "id": "southern-elite",
   "metadata": {
    "ExecuteTime": {
     "end_time": "2021-03-10T09:51:47.115624Z",
     "start_time": "2021-03-10T09:51:47.102997Z"
    },
    "scrolled": true
   },
   "outputs": [
    {
     "data": {
      "text/plain": [
       "digital_transformation      object\n",
       "employee_engagement         object\n",
       "employee_satisfaction       object\n",
       "innovation                  object\n",
       "internationalization        object\n",
       "market_competitiveness      object\n",
       "people_management           object\n",
       "people_structure            object\n",
       "recruitment                 object\n",
       "training_and_development    object\n",
       "work_processes              object\n",
       "dtype: object"
      ]
     },
     "execution_count": 10,
     "metadata": {},
     "output_type": "execute_result"
    }
   ],
   "source": [
    "X.dtypes"
   ]
  },
  {
   "cell_type": "markdown",
   "id": "fifteen-stone",
   "metadata": {
    "ExecuteTime": {
     "end_time": "2021-03-10T09:53:42.052587Z",
     "start_time": "2021-03-10T09:53:42.048188Z"
    }
   },
   "source": [
    "### Converting String to Float"
   ]
  },
  {
   "cell_type": "code",
   "execution_count": 12,
   "id": "welcome-deposit",
   "metadata": {
    "ExecuteTime": {
     "end_time": "2021-03-10T09:52:52.821778Z",
     "start_time": "2021-03-10T09:52:52.806301Z"
    },
    "scrolled": false
   },
   "outputs": [
    {
     "data": {
      "text/plain": [
       "digital_transformation      float64\n",
       "employee_engagement         float64\n",
       "employee_satisfaction       float64\n",
       "innovation                  float64\n",
       "internationalization        float64\n",
       "market_competitiveness      float64\n",
       "people_management           float64\n",
       "people_structure            float64\n",
       "recruitment                 float64\n",
       "training_and_development    float64\n",
       "work_processes              float64\n",
       "dtype: object"
      ]
     },
     "execution_count": 12,
     "metadata": {},
     "output_type": "execute_result"
    }
   ],
   "source": [
    "X = X.astype(float)\n",
    "X.dtypes"
   ]
  },
  {
   "cell_type": "markdown",
   "id": "intelligent-reporter",
   "metadata": {
    "ExecuteTime": {
     "end_time": "2021-03-10T09:58:01.088833Z",
     "start_time": "2021-03-10T09:58:01.084110Z"
    }
   },
   "source": [
    "### Train/Test Split"
   ]
  },
  {
   "cell_type": "code",
   "execution_count": 20,
   "id": "successful-cruise",
   "metadata": {
    "ExecuteTime": {
     "end_time": "2021-03-10T09:58:17.083464Z",
     "start_time": "2021-03-10T09:58:17.078502Z"
    }
   },
   "outputs": [],
   "source": [
    "from sklearn.model_selection import train_test_split"
   ]
  },
  {
   "cell_type": "code",
   "execution_count": 21,
   "id": "decreased-bearing",
   "metadata": {
    "ExecuteTime": {
     "end_time": "2021-03-10T09:58:18.127183Z",
     "start_time": "2021-03-10T09:58:18.111883Z"
    },
    "scrolled": true
   },
   "outputs": [],
   "source": [
    "X_train, X_test, y_train, y_test = train_test_split(X, y, test_size=0.2)"
   ]
  },
  {
   "cell_type": "markdown",
   "id": "level-cancer",
   "metadata": {
    "ExecuteTime": {
     "end_time": "2021-03-10T09:54:09.870557Z",
     "start_time": "2021-03-10T09:54:09.865561Z"
    }
   },
   "source": [
    "## Model: Stacking XGBoost, Gradient Boost and Gaussian"
   ]
  },
  {
   "cell_type": "markdown",
   "id": "handmade-terrain",
   "metadata": {
    "ExecuteTime": {
     "end_time": "2021-03-10T09:56:41.457369Z",
     "start_time": "2021-03-10T09:56:41.452636Z"
    }
   },
   "source": [
    "### Import necessary for model"
   ]
  },
  {
   "cell_type": "code",
   "execution_count": 27,
   "id": "standard-contact",
   "metadata": {
    "ExecuteTime": {
     "end_time": "2021-03-10T10:05:07.567740Z",
     "start_time": "2021-03-10T10:05:07.561677Z"
    }
   },
   "outputs": [],
   "source": [
    "from sklearn.ensemble import VotingClassifier\n",
    "from sklearn.naive_bayes import GaussianNB\n",
    "from sklearn.ensemble import GradientBoostingClassifier\n",
    "from xgboost import XGBClassifier\n",
    "from sklearn.model_selection import cross_validate"
   ]
  },
  {
   "cell_type": "code",
   "execution_count": 23,
   "id": "square-bruce",
   "metadata": {
    "ExecuteTime": {
     "end_time": "2021-03-10T09:59:10.825982Z",
     "start_time": "2021-03-10T09:59:10.820966Z"
    }
   },
   "outputs": [],
   "source": [
    "# instanciating different models\n",
    "\n",
    "#Gradient Boosting\n",
    "gradient_boost = GradientBoostingClassifier(\n",
    "    n_estimators=100, \n",
    "    learning_rate=0.1\n",
    ")\n",
    "\n",
    "#XGBoost \n",
    "xgbc = XGBClassifier()\n",
    "\n",
    "#Naive Bayes Gaussian\n",
    "gaussian = GaussianNB()"
   ]
  },
  {
   "cell_type": "code",
   "execution_count": 24,
   "id": "maritime-mining",
   "metadata": {
    "ExecuteTime": {
     "end_time": "2021-03-10T10:02:19.300334Z",
     "start_time": "2021-03-10T10:02:19.294388Z"
    }
   },
   "outputs": [],
   "source": [
    "#ensemble method with voting classified- stacking\n",
    "ensemble = VotingClassifier(\n",
    "    estimators = [(\"gradient_boost\", gradient_boost),(\"xgbc\", xgbc), (\"gaussian\", gaussian)],\n",
    "    voting = 'soft', # to use predict_proba of each classifier before voting\n",
    "    weights = [2,1,2] # to equally weight forest and logreg in the vote\n",
    ")"
   ]
  },
  {
   "cell_type": "code",
   "execution_count": 25,
   "id": "african-scott",
   "metadata": {
    "ExecuteTime": {
     "end_time": "2021-03-10T10:02:49.626334Z",
     "start_time": "2021-03-10T10:02:24.796995Z"
    }
   },
   "outputs": [
    {
     "name": "stderr",
     "output_type": "stream",
     "text": [
      "/home/sisto/.pyenv/versions/3.8.6/envs/lewagon/lib/python3.8/site-packages/xgboost/sklearn.py:888: UserWarning: The use of label encoder in XGBClassifier is deprecated and will be removed in a future release. To remove this warning, do the following: 1) Pass option use_label_encoder=False when constructing XGBClassifier object; and 2) Encode your labels (y) as integers starting with 0, i.e. 0, 1, 2, ..., [num_class - 1].\n",
      "  warnings.warn(label_encoder_deprecation_msg, UserWarning)\n"
     ]
    },
    {
     "name": "stdout",
     "output_type": "stream",
     "text": [
      "[10:02:40] WARNING: ../src/learner.cc:1061: Starting in XGBoost 1.3.0, the default evaluation metric used with the objective 'multi:softprob' was changed from 'merror' to 'mlogloss'. Explicitly set eval_metric if you'd like to restore the old behavior.\n"
     ]
    },
    {
     "data": {
      "text/plain": [
       "0.7405544441268934"
      ]
     },
     "execution_count": 25,
     "metadata": {},
     "output_type": "execute_result"
    }
   ],
   "source": [
    "ensemble.fit(X_train, y_train)\n",
    "ensemble.score(X_train,y_train)"
   ]
  },
  {
   "cell_type": "code",
   "execution_count": 28,
   "id": "meaning-elder",
   "metadata": {
    "ExecuteTime": {
     "end_time": "2021-03-10T10:05:58.087259Z",
     "start_time": "2021-03-10T10:05:10.147960Z"
    }
   },
   "outputs": [
    {
     "name": "stderr",
     "output_type": "stream",
     "text": [
      "/home/sisto/.pyenv/versions/3.8.6/envs/lewagon/lib/python3.8/site-packages/xgboost/sklearn.py:888: UserWarning: The use of label encoder in XGBClassifier is deprecated and will be removed in a future release. To remove this warning, do the following: 1) Pass option use_label_encoder=False when constructing XGBClassifier object; and 2) Encode your labels (y) as integers starting with 0, i.e. 0, 1, 2, ..., [num_class - 1].\n",
      "  warnings.warn(label_encoder_deprecation_msg, UserWarning)\n"
     ]
    },
    {
     "name": "stdout",
     "output_type": "stream",
     "text": [
      "[10:05:19] WARNING: ../src/learner.cc:1061: Starting in XGBoost 1.3.0, the default evaluation metric used with the objective 'multi:softprob' was changed from 'merror' to 'mlogloss'. Explicitly set eval_metric if you'd like to restore the old behavior.\n"
     ]
    },
    {
     "name": "stderr",
     "output_type": "stream",
     "text": [
      "/home/sisto/.pyenv/versions/3.8.6/envs/lewagon/lib/python3.8/site-packages/xgboost/sklearn.py:888: UserWarning: The use of label encoder in XGBClassifier is deprecated and will be removed in a future release. To remove this warning, do the following: 1) Pass option use_label_encoder=False when constructing XGBClassifier object; and 2) Encode your labels (y) as integers starting with 0, i.e. 0, 1, 2, ..., [num_class - 1].\n",
      "  warnings.warn(label_encoder_deprecation_msg, UserWarning)\n"
     ]
    },
    {
     "name": "stdout",
     "output_type": "stream",
     "text": [
      "[10:05:33] WARNING: ../src/learner.cc:1061: Starting in XGBoost 1.3.0, the default evaluation metric used with the objective 'multi:softprob' was changed from 'merror' to 'mlogloss'. Explicitly set eval_metric if you'd like to restore the old behavior.\n"
     ]
    },
    {
     "name": "stderr",
     "output_type": "stream",
     "text": [
      "/home/sisto/.pyenv/versions/3.8.6/envs/lewagon/lib/python3.8/site-packages/xgboost/sklearn.py:888: UserWarning: The use of label encoder in XGBClassifier is deprecated and will be removed in a future release. To remove this warning, do the following: 1) Pass option use_label_encoder=False when constructing XGBClassifier object; and 2) Encode your labels (y) as integers starting with 0, i.e. 0, 1, 2, ..., [num_class - 1].\n",
      "  warnings.warn(label_encoder_deprecation_msg, UserWarning)\n"
     ]
    },
    {
     "name": "stdout",
     "output_type": "stream",
     "text": [
      "[10:05:52] WARNING: ../src/learner.cc:1061: Starting in XGBoost 1.3.0, the default evaluation metric used with the objective 'multi:softprob' was changed from 'merror' to 'mlogloss'. Explicitly set eval_metric if you'd like to restore the old behavior.\n"
     ]
    }
   ],
   "source": [
    "ensemble_results = cross_validate(ensemble, X_train, y_train, cv=3)"
   ]
  },
  {
   "cell_type": "code",
   "execution_count": 29,
   "id": "czech-coordination",
   "metadata": {
    "ExecuteTime": {
     "end_time": "2021-03-10T10:05:58.097189Z",
     "start_time": "2021-03-10T10:05:58.090022Z"
    }
   },
   "outputs": [
    {
     "name": "stdout",
     "output_type": "stream",
     "text": [
      "CV mean results:  0.6777940551097963\n"
     ]
    }
   ],
   "source": [
    "print(\"CV mean results: \", ensemble_results['test_score'].mean())"
   ]
  }
 ],
 "metadata": {
  "kernelspec": {
   "display_name": "Python 3",
   "language": "python",
   "name": "python3"
  },
  "language_info": {
   "codemirror_mode": {
    "name": "ipython",
    "version": 3
   },
   "file_extension": ".py",
   "mimetype": "text/x-python",
   "name": "python",
   "nbconvert_exporter": "python",
   "pygments_lexer": "ipython3",
   "version": "3.8.6"
  },
  "toc": {
   "base_numbering": 1,
   "nav_menu": {},
   "number_sections": true,
   "sideBar": true,
   "skip_h1_title": false,
   "title_cell": "Table of Contents",
   "title_sidebar": "Contents",
   "toc_cell": false,
   "toc_position": {},
   "toc_section_display": true,
   "toc_window_display": false
  }
 },
 "nbformat": 4,
 "nbformat_minor": 5
}
